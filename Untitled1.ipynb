{
 "cells": [
  {
   "cell_type": "code",
   "execution_count": 1,
   "id": "81e2b921",
   "metadata": {},
   "outputs": [
    {
     "name": "stdout",
     "output_type": "stream",
     "text": [
      "Downloading data from https://storage.googleapis.com/tensorflow/tf-keras-datasets/mnist.npz\n",
      "11490434/11490434 [==============================] - 6s 0us/step\n",
      "Epoch 1/5\n",
      "750/750 [==============================] - 15s 19ms/step - loss: 0.2212 - accuracy: 0.9316 - val_loss: 0.0697 - val_accuracy: 0.9792\n",
      "Epoch 2/5\n",
      "750/750 [==============================] - 14s 18ms/step - loss: 0.0571 - accuracy: 0.9821 - val_loss: 0.0598 - val_accuracy: 0.9812\n",
      "Epoch 3/5\n",
      "750/750 [==============================] - 14s 19ms/step - loss: 0.0396 - accuracy: 0.9875 - val_loss: 0.0377 - val_accuracy: 0.9885\n",
      "Epoch 4/5\n",
      "750/750 [==============================] - 15s 20ms/step - loss: 0.0312 - accuracy: 0.9898 - val_loss: 0.0392 - val_accuracy: 0.9876\n",
      "Epoch 5/5\n",
      "750/750 [==============================] - 15s 20ms/step - loss: 0.0246 - accuracy: 0.9925 - val_loss: 0.0402 - val_accuracy: 0.9877\n",
      "313/313 [==============================] - 1s 3ms/step - loss: 0.0330 - accuracy: 0.9901\n",
      "Test Loss : 0.033\n",
      "Test Accuracy : 99.01%\n"
     ]
    }
   ],
   "source": [
    "import tensorflow as tf\n",
    "from tensorflow.keras.datasets import mnist\n",
    "from tensorflow.keras.utils import to_categorical\n",
    "\n",
    "(train_images, train_labels), (test_images, test_labels) = mnist.load_data()\n",
    "train_images, test_images = train_images / 255.0, test_images / 255.0\n",
    "train_labels, test_labels = to_categorical(train_labels), to_categorical(test_labels)\n",
    "\n",
    "model = tf.keras.Sequential([\n",
    "    tf.keras.layers.Conv2D(32, 3, activation='relu', input_shape=(28, 28, 1)),\n",
    "    tf.keras.layers.MaxPooling2D(),\n",
    "    tf.keras.layers.Conv2D(64, 3, activation='relu'),\n",
    "    tf.keras.layers.MaxPooling2D(),\n",
    "    tf.keras.layers.Conv2D(64, 3, activation='relu'),\n",
    "    tf.keras.layers.Flatten(),\n",
    "    tf.keras.layers.Dense(64, activation='relu'),\n",
    "    tf.keras.layers.Dense(10, activation='softmax')\n",
    "])\n",
    "\n",
    "model.compile(optimizer='adam', loss='categorical_crossentropy', metrics=['accuracy'])\n",
    "model.fit(train_images, train_labels, epochs=5, batch_size=64, validation_split=0.2)\n",
    "\n",
    "test_loss, test_acc = model.evaluate(test_images, test_labels)\n",
    "print(f\"Test Loss : {round(test_loss, 4)}\\nTest Accuracy : {round(test_acc * 100, 4)}%\")"
   ]
  },
  {
   "cell_type": "code",
   "execution_count": null,
   "id": "29ffef22",
   "metadata": {},
   "outputs": [],
   "source": []
  }
 ],
 "metadata": {
  "kernelspec": {
   "display_name": "Python 3 (ipykernel)",
   "language": "python",
   "name": "python3"
  },
  "language_info": {
   "codemirror_mode": {
    "name": "ipython",
    "version": 3
   },
   "file_extension": ".py",
   "mimetype": "text/x-python",
   "name": "python",
   "nbconvert_exporter": "python",
   "pygments_lexer": "ipython3",
   "version": "3.10.9"
  }
 },
 "nbformat": 4,
 "nbformat_minor": 5
}
