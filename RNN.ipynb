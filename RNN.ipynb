{
 "cells": [
  {
   "cell_type": "code",
   "execution_count": 1,
   "id": "ffa5e245",
   "metadata": {},
   "outputs": [
    {
     "name": "stdout",
     "output_type": "stream",
     "text": [
      "Downloading data from https://storage.googleapis.com/tensorflow/tf-keras-datasets/imdb.npz\n",
      "17464789/17464789 [==============================] - 3s 0us/step\n",
      "Epoch 1/5\n",
      "313/313 [==============================] - 71s 224ms/step - loss: 0.4240 - accuracy: 0.7987 - val_loss: 0.3378 - val_accuracy: 0.8550\n",
      "Epoch 2/5\n",
      "313/313 [==============================] - 73s 233ms/step - loss: 0.2423 - accuracy: 0.9040 - val_loss: 0.3207 - val_accuracy: 0.8740\n",
      "Epoch 3/5\n",
      "313/313 [==============================] - 77s 246ms/step - loss: 0.1740 - accuracy: 0.9362 - val_loss: 0.3390 - val_accuracy: 0.8608\n",
      "Epoch 4/5\n",
      "313/313 [==============================] - 76s 243ms/step - loss: 0.1162 - accuracy: 0.9602 - val_loss: 0.4349 - val_accuracy: 0.8652\n",
      "Epoch 5/5\n",
      "313/313 [==============================] - 76s 242ms/step - loss: 0.1434 - accuracy: 0.9457 - val_loss: 0.4151 - val_accuracy: 0.8506\n",
      "782/782 [==============================] - 20s 25ms/step - loss: 0.4279 - accuracy: 0.8479\n",
      "Test accuracy: 84.79%\n",
      "1/1 [==============================] - 0s 283ms/step\n"
     ]
    },
    {
     "data": {
      "text/plain": [
       "0"
      ]
     },
     "execution_count": 1,
     "metadata": {},
     "output_type": "execute_result"
    }
   ],
   "source": [
    "import numpy as np\n",
    "import tensorflow as tf\n",
    "from tensorflow.keras.datasets import imdb\n",
    "from tensorflow.keras.preprocessing.sequence import pad_sequences\n",
    "from tensorflow.keras.models import Sequential\n",
    "from tensorflow.keras.layers import Embedding, LSTM, Dense\n",
    "\n",
    "(X_train, y_train), (X_test, y_test) = imdb.load_data(num_words=10000)\n",
    "X_train = pad_sequences(X_train, maxlen=200)\n",
    "X_test = pad_sequences(X_test, maxlen=200)\n",
    "\n",
    "model = Sequential([\n",
    "    Embedding(input_dim=10000, output_dim=128, input_length=200),\n",
    "    LSTM(128),\n",
    "    Dense(1, activation='sigmoid')\n",
    "    ])\n",
    "\n",
    "model.compile(loss='binary_crossentropy', optimizer='adam', metrics=['accuracy'])\n",
    "\n",
    "model.fit(X_train, y_train, validation_split=0.2, epochs=5, batch_size=64)\n",
    "\n",
    "loss, accuracy = model.evaluate(X_test, y_test)\n",
    "print(f\"Test accuracy: {round(accuracy * 100, 2)}%\")\n",
    "\n",
    "# Reshape the sequence to match the batch size expected by the model\n",
    "test_seq = np.reshape(X_test[7], (1, -1))\n",
    "\n",
    "pred = model.predict(test_seq)[0]\n",
    "'Positive Review' if int(pred[0]) == 1 else \"Negative Review\"\n",
    "\n",
    "# Checking the correctness of prediction\n",
    "y_test[7] # 0 means Negative Review ; 1 means Positive Review"
   ]
  },
  {
   "cell_type": "code",
   "execution_count": null,
   "id": "11bdf55a",
   "metadata": {},
   "outputs": [],
   "source": []
  }
 ],
 "metadata": {
  "kernelspec": {
   "display_name": "Python 3 (ipykernel)",
   "language": "python",
   "name": "python3"
  },
  "language_info": {
   "codemirror_mode": {
    "name": "ipython",
    "version": 3
   },
   "file_extension": ".py",
   "mimetype": "text/x-python",
   "name": "python",
   "nbconvert_exporter": "python",
   "pygments_lexer": "ipython3",
   "version": "3.10.9"
  }
 },
 "nbformat": 4,
 "nbformat_minor": 5
}
